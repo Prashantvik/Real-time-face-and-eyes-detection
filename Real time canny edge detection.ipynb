{
 "cells": [
  {
   "cell_type": "markdown",
   "metadata": {},
   "source": [
    "## REAL TIME CANNY EDGE DETECTION"
   ]
  },
  {
   "cell_type": "markdown",
   "metadata": {},
   "source": [
    "Importing required libraries."
   ]
  },
  {
   "cell_type": "code",
   "execution_count": null,
   "metadata": {},
   "outputs": [],
   "source": [
    "import cv2 as cv\n",
    "import numpy as np"
   ]
  },
  {
   "cell_type": "markdown",
   "metadata": {},
   "source": [
    "Reading the webcam frame for further processing."
   ]
  },
  {
   "cell_type": "code",
   "execution_count": null,
   "metadata": {},
   "outputs": [],
   "source": [
    "video = cv.VideoCapture(0)\n",
    "\n",
    "while True:\n",
    "    check,frame = video.read()\n",
    "    \n",
    "    #print(check)\n",
    "    #print(frame)\n",
    "    \n",
    "    \n",
    "    #For fast processing of the image\n",
    "    gray = cv.cvtColor(frame,cv.COLOR_BGR2GRAY)\n",
    "       \n",
    "    #For smoothning of the image\n",
    "    Gauss = cv.GaussianBlur(frame,(7,7),0)\n",
    "    \n",
    "    \n",
    "    #Canny fucntion for edge detection\n",
    "    Canny = cv.Canny(Gauss,50,80)\n",
    "    \n",
    "    cv.imshow(\"Original Frame\", gray)\n",
    "    cv.imshow(\"Frame\", Canny)\n",
    "    \n",
    "    if cv.waitKey(1) & 0xFF==ord(\"q\"):\n",
    "        break\n",
    "        \n",
    "        \n",
    "video.release()\n",
    "cv.destroyAllWindows()"
   ]
  }
 ],
 "metadata": {
  "kernelspec": {
   "display_name": "Python 3",
   "language": "python",
   "name": "python3"
  },
  "language_info": {
   "codemirror_mode": {
    "name": "ipython",
    "version": 3
   },
   "file_extension": ".py",
   "mimetype": "text/x-python",
   "name": "python",
   "nbconvert_exporter": "python",
   "pygments_lexer": "ipython3",
   "version": "3.7.6"
  }
 },
 "nbformat": 4,
 "nbformat_minor": 4
}
